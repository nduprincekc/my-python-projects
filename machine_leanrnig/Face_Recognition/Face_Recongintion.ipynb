{
 "cells": [
  {
   "cell_type": "code",
   "execution_count": 6,
   "id": "b0d8471a",
   "metadata": {},
   "outputs": [],
   "source": [
    "import cv2"
   ]
  },
  {
   "cell_type": "code",
   "execution_count": 3,
   "id": "530e3520",
   "metadata": {},
   "outputs": [
    {
     "data": {
      "text/plain": [
       "-1"
      ]
     },
     "execution_count": 3,
     "metadata": {},
     "output_type": "execute_result"
    }
   ],
   "source": [
    "FaceRecog = cv2.CascadeClassifier('face_recog_data.xml')\n",
    "img = cv2.imread('peoples.jpg')\n",
    "cv2.imshow('image',img)\n",
    "cv2.waitKey()"
   ]
  },
  {
   "cell_type": "code",
   "execution_count": 13,
   "id": "d81c07c3",
   "metadata": {},
   "outputs": [],
   "source": [
    "\n",
    "## Function for locating a face in an image\n",
    "def face_rec(img_dir):\n",
    "    # Reading the image\n",
    "    img = cv2.imread(img_dir)\n",
    "    \n",
    "    # converting the image to gray color\n",
    "    gimg = cv2.cvtColor(img,cv2.COLOR_BGR2GRAY)\n",
    "    \n",
    "    # getting the holiday from machine model\n",
    "    FaceRecog =  cv2.CascadeClassifier('face_recog_data.xml')\n",
    "    \n",
    "    # Getting the coordinates\n",
    "    cor = FaceRecog.detectMultiScale(gimg,1.3,5)\n",
    "    \n",
    "    try:\n",
    "        if cor.all():\n",
    "            for (x,y,w,h) in cor:\n",
    "                img = cv2.rectangle(img,(x,y),(x+w,y+h),(255,0,0),3)\n",
    "                \n",
    "            return img\n",
    "    except AttributeError:\n",
    "        return None\n",
    "    \n",
    "    "
   ]
  },
  {
   "cell_type": "code",
   "execution_count": 14,
   "id": "2e9719d7",
   "metadata": {},
   "outputs": [
    {
     "data": {
      "text/plain": [
       "-1"
      ]
     },
     "execution_count": 14,
     "metadata": {},
     "output_type": "execute_result"
    }
   ],
   "source": [
    "import cv2\n",
    "cv2.imshow('Face',face_rec('peoples.jpg'))\n",
    "cv2.waitKey()"
   ]
  }
 ],
 "metadata": {
  "kernelspec": {
   "display_name": "Python 3 (ipykernel)",
   "language": "python",
   "name": "python3"
  },
  "language_info": {
   "codemirror_mode": {
    "name": "ipython",
    "version": 3
   },
   "file_extension": ".py",
   "mimetype": "text/x-python",
   "name": "python",
   "nbconvert_exporter": "python",
   "pygments_lexer": "ipython3",
   "version": "3.9.12"
  }
 },
 "nbformat": 4,
 "nbformat_minor": 5
}
